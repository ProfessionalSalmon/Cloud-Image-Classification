{
 "cells": [
  {
   "cell_type": "code",
   "execution_count": 55,
   "metadata": {},
   "outputs": [
    {
     "data": {
      "text/plain": [
       "<torch._C.Generator at 0x23dde1861d0>"
      ]
     },
     "execution_count": 55,
     "metadata": {},
     "output_type": "execute_result"
    }
   ],
   "source": [
    "import matplotlib.pyplot as plt\n",
    "import numpy as np\n",
    "\n",
    "import torch\n",
    "from torch.utils.data import TensorDataset, DataLoader, random_split\n",
    "import torch.nn as nn\n",
    "import torch.nn.init as init\n",
    "import torch.optim as optim\n",
    "\n",
    "from torchvision.datasets import ImageFolder\n",
    "from torchvision import transforms\n",
    "\n",
    "from torchmetrics import Recall, Precision\n",
    "\n",
    "seed = 42\n",
    "np.random.seed(seed)\n",
    "torch.manual_seed(seed)"
   ]
  },
  {
   "cell_type": "code",
   "execution_count": 56,
   "metadata": {},
   "outputs": [],
   "source": [
    "train_transforms = transforms.Compose([\n",
    "    transforms.RandomHorizontalFlip(),\n",
    "\t\ttransforms.RandomRotation(45),\n",
    "\t\ttransforms.RandomAutocontrast(),\n",
    "\t\ttransforms.ToTensor(),\n",
    "\t\ttransforms.Resize((64, 64)),\n",
    "])"
   ]
  },
  {
   "cell_type": "code",
   "execution_count": 57,
   "metadata": {},
   "outputs": [],
   "source": [
    "dataset_train_val = ImageFolder(\n",
    "\t\t\"../content/clouds_train\",\n",
    "\t\ttransform=train_transforms,\n",
    ")"
   ]
  },
  {
   "cell_type": "markdown",
   "metadata": {},
   "source": [
    "Show one random image"
   ]
  },
  {
   "cell_type": "code",
   "execution_count": 58,
   "metadata": {},
   "outputs": [
    {
     "name": "stdout",
     "output_type": "stream",
     "text": [
      "torch.Size([1, 3, 64, 64])\n",
      "torch.Size([64, 64, 3])\n"
     ]
    },
    {
     "data": {
      "image/png": "[encoded data removed]",
      "text/plain": [
       "<Figure size 640x480 with 1 Axes>"
      ]
     },
     "metadata": {},
     "output_type": "display_data"
    }
   ],
   "source": [
    "dataloader_show = DataLoader(\n",
    "\t\tdataset_train_val,\n",
    "\t\tshuffle=True,\n",
    "\t\tbatch_size=1,\n",
    ")\n",
    "\n",
    "image, label = next(iter(dataloader_show))\n",
    "print(image.shape)\n",
    "\n",
    "image = image.squeeze().permute(1, 2, 0)\n",
    "print(image.shape)\n",
    "\n",
    "plt.imshow(image)\n",
    "plt.show()"
   ]
  },
  {
   "cell_type": "code",
   "execution_count": 59,
   "metadata": {},
   "outputs": [],
   "source": [
    "train_size = int(0.8 * len(dataset_train_val))\n",
    "val_size = len(dataset_train_val) - train_size\n",
    "train_dataset, val_dataset = random_split(dataset_train_val, [train_size, val_size])\n",
    "\n",
    "train_loader = DataLoader(train_dataset, batch_size=16, shuffle = True)\n",
    "val_loader = DataLoader(val_dataset, batch_size=16, shuffle = True)"
   ]
  },
  {
   "cell_type": "code",
   "execution_count": 60,
   "metadata": {},
   "outputs": [],
   "source": [
    "class Net(nn.Module):\n",
    "    def __init__(self, num_classes):\n",
    "        super().__init__()\n",
    "        # Define feature extractor\n",
    "        self.feature_extractor = nn.Sequential(\n",
    "            nn.Conv2d(3, 32, kernel_size=3, padding=1),\n",
    "            nn.ELU(),\n",
    "            nn.MaxPool2d(kernel_size=2),\n",
    "            nn.Conv2d(32, 64, kernel_size=3, padding=1),\n",
    "            nn.ELU(),\n",
    "            nn.MaxPool2d(kernel_size=2),\n",
    "            nn.Flatten(),\n",
    "        )\n",
    "        # Define classifier\n",
    "        self.classifier = nn.Linear(64*16*16, num_classes)\n",
    "    \n",
    "    def forward(self, x):  \n",
    "        # Pass input through feature extractor and classifier\n",
    "        x = self.feature_extractor(x)\n",
    "        x = self.classifier(x)\n",
    "        return x\n",
    "    \n",
    "net = Net(num_classes = 7)"
   ]
  },
  {
   "cell_type": "code",
   "execution_count": 61,
   "metadata": {},
   "outputs": [],
   "source": [
    "criterion = nn.CrossEntropyLoss()\n",
    "optimizer = optim.Adam(net.parameters(), lr = 0.001)"
   ]
  },
  {
   "cell_type": "code",
   "execution_count": 62,
   "metadata": {},
   "outputs": [],
   "source": [
    "# Early stopping parameters\n",
    "patience = 10 # Number of epochs to wait before stopping\n",
    "min_val_loss = float('inf') # Initialize with a very high value\n",
    "count = 0 # Tracks how many epochs the val_loss hasn't improved\n",
    "best_model_state = None\n",
    "\n",
    "# epoch\n",
    "num_epochs = 200\n",
    "train_loss = []\n",
    "val_loss = []"
   ]
  },
  {
   "cell_type": "code",
   "execution_count": 63,
   "metadata": {},
   "outputs": [
    {
     "name": "stdout",
     "output_type": "stream",
     "text": [
      "Epoch 1/200 - Train Loss: 1.9727, Val Loss: 1.8326\n",
      "Epoch 2/200 - Train Loss: 1.6704, Val Loss: 1.7212\n",
      "Epoch 3/200 - Train Loss: 1.5940, Val Loss: 1.7693\n",
      "Epoch 4/200 - Train Loss: 1.4847, Val Loss: 1.6451\n",
      "Epoch 5/200 - Train Loss: 1.3785, Val Loss: 1.2730\n",
      "Epoch 6/200 - Train Loss: 1.3090, Val Loss: 1.5294\n",
      "Epoch 7/200 - Train Loss: 1.2763, Val Loss: 1.3482\n",
      "Epoch 8/200 - Train Loss: 1.1626, Val Loss: 1.4039\n",
      "Epoch 9/200 - Train Loss: 1.3252, Val Loss: 1.4897\n",
      "Epoch 10/200 - Train Loss: 1.2179, Val Loss: 1.3187\n",
      "Epoch 11/200 - Train Loss: 1.1368, Val Loss: 1.2461\n",
      "Epoch 12/200 - Train Loss: 1.0393, Val Loss: 1.1196\n",
      "Epoch 13/200 - Train Loss: 1.1146, Val Loss: 1.4201\n",
      "Epoch 14/200 - Train Loss: 1.1116, Val Loss: 1.1674\n",
      "Epoch 15/200 - Train Loss: 0.9416, Val Loss: 1.1857\n",
      "Epoch 16/200 - Train Loss: 0.9932, Val Loss: 1.1578\n",
      "Epoch 17/200 - Train Loss: 0.8708, Val Loss: 1.1411\n",
      "Epoch 18/200 - Train Loss: 0.9780, Val Loss: 1.1586\n",
      "Epoch 19/200 - Train Loss: 0.9125, Val Loss: 1.2073\n",
      "Epoch 20/200 - Train Loss: 0.9012, Val Loss: 1.1392\n",
      "Epoch 21/200 - Train Loss: 1.0902, Val Loss: 1.3864\n",
      "Epoch 22/200 - Train Loss: 0.8755, Val Loss: 1.1803\n",
      "Early stopping triggered at epoch 22. Best Val Loss: 1.1196 at Epoch: 22/200\n",
      "None\n"
     ]
    },
    {
     "data": {
      "text/plain": [
       "Net(\n",
       "  (feature_extractor): Sequential(\n",
       "    (0): Conv2d(3, 32, kernel_size=(3, 3), stride=(1, 1), padding=(1, 1))\n",
       "    (1): ELU(alpha=1.0)\n",
       "    (2): MaxPool2d(kernel_size=2, stride=2, padding=0, dilation=1, ceil_mode=False)\n",
       "    (3): Conv2d(32, 64, kernel_size=(3, 3), stride=(1, 1), padding=(1, 1))\n",
       "    (4): ELU(alpha=1.0)\n",
       "    (5): MaxPool2d(kernel_size=2, stride=2, padding=0, dilation=1, ceil_mode=False)\n",
       "    (6): Flatten(start_dim=1, end_dim=-1)\n",
       "  )\n",
       "  (classifier): Linear(in_features=16384, out_features=7, bias=True)\n",
       ")"
      ]
     },
     "execution_count": 63,
     "metadata": {},
     "output_type": "execute_result"
    }
   ],
   "source": [
    "for epoch in range(num_epochs):\n",
    "    net.train()\n",
    "    training_loss = 0.0\n",
    "\n",
    "    for images, labels in train_loader:\n",
    "        optimizer.zero_grad()\n",
    "        outputs = net(images)\n",
    "        loss = criterion(outputs, labels)\n",
    "        loss.backward()\n",
    "        optimizer.step()\n",
    "        training_loss += loss.item()\n",
    "\n",
    "    epoch_train_loss = training_loss / len(train_loader)\n",
    "    train_loss.append(epoch_train_loss)\n",
    "\n",
    "    # Validation Phase\n",
    "    net.eval()\n",
    "    validation_loss = 0.0\n",
    "\n",
    "    with torch.no_grad():\n",
    "        for images, labels in val_loader:\n",
    "            outputs = net(images)\n",
    "            loss = criterion(outputs, labels)\n",
    "            validation_loss += loss.item()\n",
    "\n",
    "    epoch_val_loss = validation_loss / len(val_loader)\n",
    "    val_loss.append(epoch_val_loss)\n",
    "\n",
    "    print(f\"Epoch {epoch+1}/{num_epochs} - Train Loss: {epoch_train_loss:.4f}, Val Loss: {epoch_val_loss:.4f}\")\n",
    "\n",
    "    # Early Stopping check\n",
    "    if epoch_val_loss < min_val_loss:\n",
    "      min_val_loss = epoch_val_loss\n",
    "      count = 0\n",
    "\n",
    "      # Store the best net so the net will not keep the last-trained weights instead of the best-performing ones\n",
    "      best_model_state = net.state_dict()\n",
    "    else:\n",
    "      count += 1\n",
    "      if count >= patience:\n",
    "        epoch = epoch + 1 # assign variable for plotting\n",
    "        print(print(f\"Early stopping triggered at epoch {epoch}. Best Val Loss: {min_val_loss:.4f} at Epoch: {epoch}/{num_epochs}\"))\n",
    "        break\n",
    "\n",
    "net.train()"
   ]
  },
  {
   "cell_type": "code",
   "execution_count": 64,
   "metadata": {},
   "outputs": [],
   "source": [
    "test_transforms = transforms.Compose([\n",
    "\ttransforms.ToTensor(),\n",
    "\ttransforms.Resize((64, 64)),\n",
    "])\n",
    "\n",
    "dataset_test = ImageFolder(\n",
    "\t\t\"../content/clouds_test\",\n",
    "\t\ttransform=test_transforms,\n",
    ")\n",
    "\n",
    "test_loader = DataLoader(dataset_test, batch_size=16, shuffle=True)"
   ]
  },
  {
   "cell_type": "code",
   "execution_count": 76,
   "metadata": {},
   "outputs": [],
   "source": [
    "precision_micro = Precision(task='multiclass', num_classes=7, average='micro')\n",
    "recall_micro = Recall(task='multiclass', num_classes=7, average='micro')\n",
    "\n",
    "precision_per_class = Precision(task='multiclass', num_classes=7, average=None)\n",
    "recall_per_class = Recall(task='multiclass', num_classes=7, average=None)\n",
    "\n",
    "net.eval()\n",
    "with torch.no_grad():\n",
    "    for images, labels in test_loader:\n",
    "        outputs = net(images)\n",
    "        _, preds = torch.max(outputs, 1)\n",
    "        \n",
    "        precision_micro(preds, labels)\n",
    "        recall_micro(preds, labels)\n",
    "        \n",
    "        precision_per_class(preds, labels)\n",
    "        recall_per_class(preds, labels)"
   ]
  },
  {
   "cell_type": "code",
   "execution_count": 77,
   "metadata": {},
   "outputs": [
    {
     "name": "stdout",
     "output_type": "stream",
     "text": [
      "Precision: 0.6502\n",
      "Recall: 0.6502\n"
     ]
    }
   ],
   "source": [
    "print(f\"Precision: {precision_micro.compute():.4f}\")\n",
    "print(f\"Recall: {recall_micro.compute():.4f}\")"
   ]
  },
  {
   "cell_type": "code",
   "execution_count": 78,
   "metadata": {},
   "outputs": [
    {
     "data": {
      "text/plain": [
       "{'cirriform clouds': 0,\n",
       " 'clear sky': 1,\n",
       " 'cumulonimbus clouds': 2,\n",
       " 'cumulus clouds': 3,\n",
       " 'high cumuliform clouds': 4,\n",
       " 'stratiform clouds': 5,\n",
       " 'stratocumulus clouds': 6}"
      ]
     },
     "execution_count": 78,
     "metadata": {},
     "output_type": "execute_result"
    }
   ],
   "source": [
    "dataset_test.class_to_idx"
   ]
  },
  {
   "cell_type": "code",
   "execution_count": 79,
   "metadata": {},
   "outputs": [
    {
     "name": "stdout",
     "output_type": "stream",
     "text": [
      "{'cirriform clouds': 0.2857142984867096, 'clear sky': 0.984375, 'cumulonimbus clouds': 0.9090909361839294, 'cumulus clouds': 0.49166667461395264, 'high cumuliform clouds': 0.6796116232872009, 'stratiform clouds': 0.8999999761581421, 'stratocumulus clouds': 0.7887324094772339}\n"
     ]
    }
   ],
   "source": [
    "recall_per_class_dict = {\n",
    "    k: recall_per_class.compute()[v].item()\n",
    "    for k, v \n",
    "    in dataset_test.class_to_idx.items()\n",
    "}\n",
    "print(recall_per_class_dict)"
   ]
  },
  {
   "cell_type": "code",
   "execution_count": 80,
   "metadata": {},
   "outputs": [
    {
     "name": "stdout",
     "output_type": "stream",
     "text": [
      "{'cirriform clouds': 0.5, 'clear sky': 0.7875000238418579, 'cumulonimbus clouds': 0.6666666865348816, 'cumulus clouds': 0.737500011920929, 'high cumuliform clouds': 0.5303030014038086, 'stratiform clouds': 0.8372092843055725, 'stratocumulus clouds': 0.6086956262588501}\n"
     ]
    }
   ],
   "source": [
    "precision_per_class_dict = {\n",
    "    k: precision_per_class.compute()[v].item()\n",
    "    for k, v \n",
    "    in dataset_test.class_to_idx.items()\n",
    "}\n",
    "print(precision_per_class_dict)"
   ]
  }
 ],
 "metadata": {
  "kernelspec": {
   "display_name": "Python 3",
   "language": "python",
   "name": "python3"
  },
  "language_info": {
   "codemirror_mode": {
    "name": "ipython",
    "version": 3
   },
   "file_extension": ".py",
   "mimetype": "text/x-python",
   "name": "python",
   "nbconvert_exporter": "python",
   "pygments_lexer": "ipython3",
   "version": "3.12.9"
  }
 },
 "nbformat": 4,
 "nbformat_minor": 2
}
